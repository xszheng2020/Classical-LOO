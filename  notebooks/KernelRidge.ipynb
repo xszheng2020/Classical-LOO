{
 "cells": [
  {
   "cell_type": "code",
   "execution_count": 1,
   "metadata": {},
   "outputs": [],
   "source": [
    "import numpy as np\n",
    "import seaborn as sns\n",
    "\n",
    "import matplotlib.pyplot as plt\n",
    "\n",
    "from sklearn.datasets import load_digits\n",
    "from sklearn.model_selection import train_test_split\n",
    "from sklearn.metrics import classification_report, mean_squared_error\n",
    "from sklearn.metrics.pairwise import polynomial_kernel"
   ]
  },
  {
   "cell_type": "code",
   "execution_count": 2,
   "metadata": {},
   "outputs": [
    {
     "name": "stdout",
     "output_type": "stream",
     "text": [
      "(1797, 64)\n"
     ]
    }
   ],
   "source": [
    "digits = load_digits()\n",
    "print(digits.data.shape)"
   ]
  },
  {
   "cell_type": "code",
   "execution_count": 3,
   "metadata": {},
   "outputs": [
    {
     "name": "stdout",
     "output_type": "stream",
     "text": [
      "(1797,)\n"
     ]
    }
   ],
   "source": [
    "print(digits.target.shape)"
   ]
  },
  {
   "cell_type": "code",
   "execution_count": 4,
   "metadata": {},
   "outputs": [
    {
     "data": {
      "text/plain": [
       "<matplotlib.image.AxesImage at 0x132ddaca0>"
      ]
     },
     "execution_count": 4,
     "metadata": {},
     "output_type": "execute_result"
    },
    {
     "data": {
      "image/png": "[encoded data removed]",
      "text/plain": [
       "<Figure size 640x480 with 1 Axes>"
      ]
     },
     "metadata": {},
     "output_type": "display_data"
    }
   ],
   "source": [
    "import matplotlib.pyplot as plt\n",
    "plt.imshow(digits.data[0].reshape(8, 8), cmap='gray')"
   ]
  },
  {
   "cell_type": "code",
   "execution_count": null,
   "metadata": {},
   "outputs": [],
   "source": []
  },
  {
   "cell_type": "code",
   "execution_count": 5,
   "metadata": {},
   "outputs": [
    {
     "data": {
      "text/plain": [
       "(1797, 64)"
      ]
     },
     "execution_count": 5,
     "metadata": {},
     "output_type": "execute_result"
    }
   ],
   "source": [
    "X = digits.data\n",
    "y = digits.target\n",
    "X.shape"
   ]
  },
  {
   "cell_type": "code",
   "execution_count": null,
   "metadata": {},
   "outputs": [],
   "source": []
  },
  {
   "cell_type": "code",
   "execution_count": null,
   "metadata": {},
   "outputs": [],
   "source": []
  },
  {
   "cell_type": "code",
   "execution_count": null,
   "metadata": {},
   "outputs": [],
   "source": []
  },
  {
   "cell_type": "code",
   "execution_count": 6,
   "metadata": {},
   "outputs": [],
   "source": [
    "X_train, X_val, y_train, y_val = train_test_split(X, y, test_size=64, random_state=42, stratify=y)"
   ]
  },
  {
   "cell_type": "code",
   "execution_count": 7,
   "metadata": {},
   "outputs": [
    {
     "data": {
      "text/plain": [
       "(1733, 64)"
      ]
     },
     "execution_count": 7,
     "metadata": {},
     "output_type": "execute_result"
    }
   ],
   "source": [
    "X_train.shape"
   ]
  },
  {
   "cell_type": "code",
   "execution_count": 8,
   "metadata": {},
   "outputs": [
    {
     "data": {
      "text/plain": [
       "(64, 64)"
      ]
     },
     "execution_count": 8,
     "metadata": {},
     "output_type": "execute_result"
    }
   ],
   "source": [
    "(X_train.T@X_train).shape"
   ]
  },
  {
   "cell_type": "code",
   "execution_count": null,
   "metadata": {},
   "outputs": [],
   "source": []
  },
  {
   "cell_type": "code",
   "execution_count": 9,
   "metadata": {},
   "outputs": [
    {
     "data": {
      "text/plain": [
       "(1733, 1733)"
      ]
     },
     "execution_count": 9,
     "metadata": {},
     "output_type": "execute_result"
    }
   ],
   "source": [
    "\n",
    "degree = 3\n",
    "lamb=1e4\n",
    "kernel = np.linalg.inv(polynomial_kernel(X_train, X_train, degree=degree)+lamb*np.diag(np.ones(X_train.shape[0])))\n",
    "kernel.shape"
   ]
  },
  {
   "cell_type": "code",
   "execution_count": 10,
   "metadata": {},
   "outputs": [
    {
     "data": {
      "text/plain": [
       "(64,)"
      ]
     },
     "execution_count": 10,
     "metadata": {},
     "output_type": "execute_result"
    }
   ],
   "source": [
    "pred = y_train@kernel@polynomial_kernel(X_train, X_val, degree=degree)\n",
    "pred.shape"
   ]
  },
  {
   "cell_type": "code",
   "execution_count": 11,
   "metadata": {},
   "outputs": [
    {
     "name": "stdout",
     "output_type": "stream",
     "text": [
      "              precision    recall  f1-score   support\n",
      "\n",
      "           0       0.83      0.71      0.77         7\n",
      "           1       0.57      0.57      0.57         7\n",
      "           2       0.67      0.44      0.53         9\n",
      "           3       0.29      0.50      0.36         4\n",
      "           4       0.57      0.40      0.47        10\n",
      "           5       0.29      0.29      0.29         7\n",
      "           6       0.50      0.50      0.50         6\n",
      "           7       0.33      0.29      0.31         7\n",
      "           8       0.00      0.00      0.00         6\n",
      "           9       0.17      1.00      0.29         1\n",
      "\n",
      "    accuracy                           0.42        64\n",
      "   macro avg       0.42      0.47      0.41        64\n",
      "weighted avg       0.47      0.42      0.43        64\n",
      "\n"
     ]
    }
   ],
   "source": [
    "from sklearn.metrics import classification_report, mean_squared_error\n",
    "print(classification_report(pred.astype(int), y_val))"
   ]
  },
  {
   "cell_type": "code",
   "execution_count": 12,
   "metadata": {},
   "outputs": [
    {
     "data": {
      "text/plain": [
       "0.5860001406089674"
      ]
     },
     "execution_count": 12,
     "metadata": {},
     "output_type": "execute_result"
    }
   ],
   "source": [
    "mean_squared_error(pred, y_val)"
   ]
  },
  {
   "cell_type": "code",
   "execution_count": null,
   "metadata": {},
   "outputs": [],
   "source": []
  },
  {
   "cell_type": "code",
   "execution_count": 13,
   "metadata": {},
   "outputs": [
    {
     "data": {
      "text/plain": [
       "<seaborn.axisgrid.JointGrid at 0x10582f1f0>"
      ]
     },
     "execution_count": 13,
     "metadata": {},
     "output_type": "execute_result"
    },
    {
     "data": {
      "image/png": "[encoded data removed]",
      "text/plain": [
       "<Figure size 600x600 with 3 Axes>"
      ]
     },
     "metadata": {},
     "output_type": "display_data"
    }
   ],
   "source": [
    "\n",
    "data={\n",
    "    'true': y_val,\n",
    "    'pred': pred\n",
    "}\n",
    "\n",
    "sns.jointplot(data=data, x='true', y='pred')"
   ]
  },
  {
   "cell_type": "code",
   "execution_count": null,
   "metadata": {},
   "outputs": [],
   "source": []
  },
  {
   "cell_type": "code",
   "execution_count": 14,
   "metadata": {},
   "outputs": [
    {
     "name": "stdout",
     "output_type": "stream",
     "text": [
      "(1732, 64)\n"
     ]
    },
    {
     "data": {
      "text/plain": [
       "(64,)"
      ]
     },
     "execution_count": 14,
     "metadata": {},
     "output_type": "execute_result"
    }
   ],
   "source": [
    "i = 0\n",
    "X_train_ = np.concatenate([X_train[:i], X_train[i+1:]], axis=0)\n",
    "y_train_ = np.concatenate([y_train[:i], y_train[i+1:]], axis=0)\n",
    "\n",
    "print(X_train_.shape)\n",
    "kernel_ = np.linalg.inv(polynomial_kernel(X_train_, X_train_, degree=degree)+lamb*np.diag(np.ones(X_train_.shape[0])))\n",
    "kernel_.shape\n",
    "\n",
    "\n",
    "pred_ = y_train_@kernel_@polynomial_kernel(X_train_, X_val, degree=degree)\n",
    "pred_.shape"
   ]
  },
  {
   "cell_type": "code",
   "execution_count": null,
   "metadata": {},
   "outputs": [],
   "source": []
  },
  {
   "cell_type": "code",
   "execution_count": 15,
   "metadata": {},
   "outputs": [
    {
     "data": {
      "text/plain": [
       "0.00019107878311253046"
      ]
     },
     "execution_count": 15,
     "metadata": {},
     "output_type": "execute_result"
    }
   ],
   "source": [
    "(pred[0] - pred_[0])"
   ]
  },
  {
   "cell_type": "code",
   "execution_count": null,
   "metadata": {},
   "outputs": [],
   "source": []
  },
  {
   "cell_type": "code",
   "execution_count": null,
   "metadata": {},
   "outputs": [],
   "source": []
  },
  {
   "cell_type": "code",
   "execution_count": null,
   "metadata": {},
   "outputs": [],
   "source": []
  },
  {
   "cell_type": "code",
   "execution_count": 16,
   "metadata": {},
   "outputs": [
    {
     "data": {
      "text/plain": [
       "array([2.07804816e-01, 2.72777356e-02, 3.14545459e-01, 4.64150156e-02,\n",
       "       2.63238330e-01, 1.01827206e-01, 5.65839764e-02, 8.92947767e-01,\n",
       "       5.68712863e-01, 1.14379028e-01, 6.46140675e-02, 4.59475055e-01,\n",
       "       1.81437828e-01, 5.74578607e-02, 1.10802794e+00, 2.10639348e-02,\n",
       "       8.32199570e-02, 5.76774998e-02, 8.08764347e-02, 3.05332226e-01,\n",
       "       9.55249361e-01, 1.01485823e-02, 2.48976959e-02, 6.49223865e-01,\n",
       "       4.20308907e-01, 2.92830795e+00, 7.26828776e-02, 2.61600936e+00,\n",
       "       3.05359539e+00, 3.30916149e-01, 3.28986155e-01, 3.72583884e-02,\n",
       "       7.83833816e-03, 1.02201911e-01, 6.50279438e-01, 2.57349947e-02,\n",
       "       1.33942517e-01, 1.14376410e+00, 7.92188685e-01, 1.23467817e+00,\n",
       "       9.63414447e-01, 2.72060937e+00, 9.57428677e-01, 4.82608155e-03,\n",
       "       1.72521117e-01, 1.43926930e-01, 2.83816293e-01, 2.05346652e-01,\n",
       "       6.25888378e-01, 9.40174610e-02, 5.32888632e+00, 4.73856497e-01,\n",
       "       3.47973930e-03, 2.38914614e-02, 1.04769053e+00, 1.08013978e-01,\n",
       "       1.16676100e-01, 3.04784161e-06, 2.94618919e-02, 1.62966331e-01,\n",
       "       4.80514082e-02, 3.58499681e-01, 5.63311938e-01, 2.53629683e+00])"
      ]
     },
     "execution_count": 16,
     "metadata": {},
     "output_type": "execute_result"
    }
   ],
   "source": [
    "prev_loss = (y_val - pred)**2\n",
    "prev_loss"
   ]
  },
  {
   "cell_type": "code",
   "execution_count": null,
   "metadata": {},
   "outputs": [],
   "source": []
  },
  {
   "cell_type": "markdown",
   "metadata": {},
   "source": [
    "Many thanks to Fengzhuo Zhang!!!\n",
    "\n",
    "<img title=\"Many thanks to Fengzhuo Zhang!!!\" alt=\"krr_loo\" src=\"../static/krr_loo.png\">"
   ]
  },
  {
   "cell_type": "code",
   "execution_count": 17,
   "metadata": {},
   "outputs": [
    {
     "name": "stdout",
     "output_type": "stream",
     "text": [
      "[[ 1.91078780e-04  3.20450510e-04  4.44923249e-04  8.26718028e-05\n",
      "   6.07045225e-05  1.36547349e-04 -9.71143557e-05 -1.01197373e-03\n",
      "   5.43653096e-05 -1.58285785e-03  2.08999538e-03  2.12468260e-05\n",
      "  -7.22616605e-05 -3.50500054e-05 -2.40422646e-05 -2.16903021e-04\n",
      "  -5.85241023e-04  5.21509961e-05 -8.93123535e-05 -5.11049691e-04\n",
      "  -1.75968711e-03  1.42812180e-04  1.00934064e-04  7.22758381e-04\n",
      "   3.56656254e-05 -3.40475472e-04 -2.56743790e-04 -1.92232520e-04\n",
      "   2.00906671e-04 -9.54092212e-05  8.81624388e-05  4.98646925e-04\n",
      "   6.89400347e-04  2.67476467e-04  6.68077357e-04  2.41963058e-04\n",
      "  -3.46610441e-04 -3.90155397e-04  6.60366965e-04 -1.26898664e-04\n",
      "   6.13087296e-04 -2.56225889e-04 -2.65535381e-04  4.83685675e-05\n",
      "   4.59922529e-04 -8.64616235e-05 -4.73432376e-04  3.67281494e-04\n",
      "   6.97686804e-05  1.19678864e-04 -1.75944386e-04  2.90771348e-04\n",
      "   3.26852514e-05  9.73271446e-04 -2.07712296e-04 -1.21856682e-03\n",
      "   4.21673863e-05 -1.70176219e-04  3.62248512e-04  3.99105532e-05\n",
      "  -1.47046742e-05 -4.74736944e-04  4.97291807e-05  2.95060258e-04]]\n"
     ]
    }
   ],
   "source": [
    "if_list = []\n",
    "p3 = polynomial_kernel(X_train, X_val, degree=degree)\n",
    "for i in range(X_train.shape[0]):\n",
    "    \n",
    "    p1 = polynomial_kernel(X_train[i:i+1], X_val, degree=degree)\n",
    "    p2 = polynomial_kernel(X_train[i:i+1], X_train, degree=degree)\n",
    "\n",
    "    p4 = polynomial_kernel(X_train[i:i+1], X_train[i:i+1], degree=degree)\n",
    "    p5 = polynomial_kernel(X_train, X_train[i:i+1], degree=degree)\n",
    "    \n",
    "    a = p1 - p2@kernel@p3\n",
    "    b = 1/(lamb-(p4-p2@kernel@p5))\n",
    "    c = p2@kernel@y_train - y_train[i]\n",
    "\n",
    "    loo = -a*b*c\n",
    "    if i==0:\n",
    "        print(loo)\n",
    "\n",
    "    pred_ = pred - loo\n",
    "\n",
    "    current_loss = (y_val - pred_)**2\n",
    "    \n",
    "    if_list.append(prev_loss-current_loss)\n",
    "\n",
    "    # break"
   ]
  },
  {
   "cell_type": "code",
   "execution_count": 18,
   "metadata": {},
   "outputs": [
    {
     "data": {
      "text/plain": [
       "(64, 1733)"
      ]
     },
     "execution_count": 18,
     "metadata": {},
     "output_type": "execute_result"
    }
   ],
   "source": [
    "if_array = np.vstack(if_list).T\n",
    "if_array.shape"
   ]
  },
  {
   "cell_type": "code",
   "execution_count": 19,
   "metadata": {},
   "outputs": [
    {
     "data": {
      "text/plain": [
       "<matplotlib.colorbar.Colorbar at 0x13306d6a0>"
      ]
     },
     "execution_count": 19,
     "metadata": {},
     "output_type": "execute_result"
    },
    {
     "data": {
      "image/png": "[encoded data removed]",
      "text/plain": [
       "<Figure size 640x480 with 2 Axes>"
      ]
     },
     "metadata": {},
     "output_type": "display_data"
    }
   ],
   "source": [
    "plt.imshow(if_array[:, :96])\n",
    "plt.colorbar()"
   ]
  },
  {
   "cell_type": "code",
   "execution_count": 20,
   "metadata": {},
   "outputs": [
    {
     "data": {
      "text/plain": [
       "[<matplotlib.lines.Line2D at 0x1331fd940>]"
      ]
     },
     "execution_count": 20,
     "metadata": {},
     "output_type": "execute_result"
    },
    {
     "data": {
      "image/png": "[encoded data removed]",
      "text/plain": [
       "<Figure size 640x480 with 1 Axes>"
      ]
     },
     "metadata": {},
     "output_type": "display_data"
    }
   ],
   "source": [
    "i = 1\n",
    "plt.plot(sorted(if_array[i]))"
   ]
  },
  {
   "cell_type": "code",
   "execution_count": null,
   "metadata": {},
   "outputs": [],
   "source": []
  },
  {
   "cell_type": "code",
   "execution_count": 21,
   "metadata": {},
   "outputs": [
    {
     "data": {
      "image/png": "[encoded data removed]",
      "text/plain": [
       "<Figure size 1200x400 with 16 Axes>"
      ]
     },
     "metadata": {},
     "output_type": "display_data"
    }
   ],
   "source": [
    "i = 11\n",
    "\n",
    "fig, axes = plt.subplots(2, 8, figsize=(12, 4))\n",
    "axes[0, 0].imshow(X_val[i][:64].reshape(8, 8), cmap='gray')\n",
    "axes[0, 0].set_title(y_val[i])\n",
    "\n",
    "axes[1, 0].imshow(X_val[i][:64].reshape(8, 8), cmap='gray')\n",
    "axes[1, 0].set_title(y_val[i])\n",
    "\n",
    "tmp = np.argsort(if_array[i])\n",
    "\n",
    "for j in range(1, 8):\n",
    "    indice = tmp[j-1]\n",
    "    axes[0, j].imshow(X_train[indice][:64].reshape(8, 8), cmap='gray')\n",
    "    axes[0, j].set_title(\"{}: {}\".format(y_train[indice], np.round(if_array[i][indice], 2)))\n",
    "\n",
    "tmp = np.argsort(if_array[i])[::-1]\n",
    "for j in range(1, 8):\n",
    "    indice = tmp[j-1]\n",
    "    axes[1, j].imshow(X_train[indice][:64].reshape(8, 8), cmap='gray')\n",
    "    axes[1, j].set_title(\"{}: {}\".format(y_train[indice], np.round(if_array[i][indice], 2)))"
   ]
  },
  {
   "cell_type": "code",
   "execution_count": null,
   "metadata": {},
   "outputs": [],
   "source": []
  },
  {
   "cell_type": "code",
   "execution_count": null,
   "metadata": {},
   "outputs": [],
   "source": []
  }
 ],
 "metadata": {
  "kernelspec": {
   "display_name": "Python 3",
   "language": "python",
   "name": "python3"
  },
  "language_info": {
   "codemirror_mode": {
    "name": "ipython",
    "version": 3
   },
   "file_extension": ".py",
   "mimetype": "text/x-python",
   "name": "python",
   "nbconvert_exporter": "python",
   "pygments_lexer": "ipython3",
   "version": "3.9.6"
  }
 },
 "nbformat": 4,
 "nbformat_minor": 2
}
